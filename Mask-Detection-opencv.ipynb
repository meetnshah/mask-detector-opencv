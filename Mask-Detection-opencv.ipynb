{
 "cells": [
  {
   "cell_type": "code",
   "execution_count": 1,
   "metadata": {},
   "outputs": [],
   "source": [
    "from keras.optimizers import RMSprop\n",
    "from keras.preprocessing.image import ImageDataGenerator\n",
    "import cv2\n",
    "from keras.models import Sequential\n",
    "from keras.layers import Conv2D, Input, ZeroPadding2D, BatchNormalization, Activation, MaxPooling2D, Flatten, Dense,Dropout\n",
    "from keras.models import Model, load_model\n",
    "from keras.callbacks import TensorBoard, ModelCheckpoint\n",
    "from sklearn.model_selection import train_test_split\n",
    "from sklearn.metrics import f1_score\n",
    "from sklearn.utils import shuffle\n",
    "import imutils\n",
    "import numpy as np\n",
    "from PIL import Image\n"
   ]
  },
  {
   "cell_type": "code",
   "execution_count": 14,
   "metadata": {},
   "outputs": [],
   "source": [
    "model = Sequential([\n",
    "    Conv2D(100, (3,3), activation='relu', input_shape=(150, 150, 3)),\n",
    "    MaxPooling2D(2,2),\n",
    "    \n",
    "    Conv2D(100, (3,3), activation='relu'),\n",
    "    MaxPooling2D(2,2),\n",
    "    \n",
    "    Flatten(),\n",
    "    Dropout(0.5),\n",
    "    Dense(200, activation='relu'),\n",
    "    Dense(2, activation='softmax')\n",
    "])\n",
    "model.compile(optimizer='adam', loss='binary_crossentropy', metrics=['acc'])"
   ]
  },
  {
   "cell_type": "code",
   "execution_count": 15,
   "metadata": {},
   "outputs": [
    {
     "name": "stdout",
     "output_type": "stream",
     "text": [
      "Found 1315 images belonging to 2 classes.\n",
      "Found 194 images belonging to 2 classes.\n"
     ]
    }
   ],
   "source": [
    "TRAINING_DIR = \"C:\\\\Users\\\\meetn\\\\Downloads\\\\face-mask-dataset\\\\Dataset\\\\train\"\n",
    "train_datagen = ImageDataGenerator(rescale=1.0/255,\n",
    "                                   rotation_range=40,\n",
    "                                   width_shift_range=0.2,\n",
    "                                   height_shift_range=0.2,\n",
    "                                   shear_range=0.2,\n",
    "                                   zoom_range=0.2,\n",
    "                                   horizontal_flip=True,\n",
    "                                   fill_mode='nearest')\n",
    "train_generator = train_datagen.flow_from_directory(TRAINING_DIR, \n",
    "                                                    batch_size=10, \n",
    "                                                    target_size=(150, 150))\n",
    "VALIDATION_DIR = \"C:\\\\Users\\\\meetn\\\\Downloads\\\\face-mask-dataset\\\\Dataset\\\\test\"\n",
    "validation_datagen = ImageDataGenerator(rescale=1.0/255)\n",
    "validation_generator = validation_datagen.flow_from_directory(VALIDATION_DIR, \n",
    "                                                         batch_size=10, \n",
    "                                                         target_size=(150, 150))\n"
   ]
  },
  {
   "cell_type": "code",
   "execution_count": 16,
   "metadata": {},
   "outputs": [],
   "source": [
    "checkpoint = ModelCheckpoint('model2-{epoch:03d}.model',monitor='val_loss',verbose=0,save_best_only=True,mode='auto')"
   ]
  },
  {
   "cell_type": "code",
   "execution_count": 17,
   "metadata": {},
   "outputs": [
    {
     "name": "stdout",
     "output_type": "stream",
     "text": [
      "Epoch 1/10\n",
      "132/132 [==============================] - ETA: 0s - loss: 0.6271 - acc: 0.6966INFO:tensorflow:Assets written to: model2-001.model\\assets\n",
      "132/132 [==============================] - 43s 324ms/step - loss: 0.6271 - acc: 0.6966 - val_loss: 0.5473 - val_acc: 0.8660\n",
      "Epoch 2/10\n",
      "132/132 [==============================] - ETA: 0s - loss: 0.3957 - acc: 0.8570INFO:tensorflow:Assets written to: model2-002.model\\assets\n",
      "132/132 [==============================] - 45s 341ms/step - loss: 0.3957 - acc: 0.8570 - val_loss: 0.1963 - val_acc: 0.9175\n",
      "Epoch 3/10\n",
      "132/132 [==============================] - ETA: 0s - loss: 0.3431 - acc: 0.8586INFO:tensorflow:Assets written to: model2-003.model\\assets\n",
      "132/132 [==============================] - 45s 342ms/step - loss: 0.3431 - acc: 0.8586 - val_loss: 0.1511 - val_acc: 0.9536\n",
      "Epoch 4/10\n",
      "132/132 [==============================] - ETA: 0s - loss: 0.2547 - acc: 0.9042INFO:tensorflow:Assets written to: model2-004.model\\assets\n",
      "132/132 [==============================] - 45s 342ms/step - loss: 0.2547 - acc: 0.9042 - val_loss: 0.0855 - val_acc: 0.9639\n",
      "Epoch 5/10\n",
      "132/132 [==============================] - 44s 336ms/step - loss: 0.3304 - acc: 0.8776 - val_loss: 0.1459 - val_acc: 0.9330\n",
      "Epoch 6/10\n",
      "132/132 [==============================] - 44s 332ms/step - loss: 0.2478 - acc: 0.9103 - val_loss: 0.1343 - val_acc: 0.9742\n",
      "Epoch 7/10\n",
      "132/132 [==============================] - ETA: 0s - loss: 0.2131 - acc: 0.9285INFO:tensorflow:Assets written to: model2-007.model\\assets\n",
      "132/132 [==============================] - 47s 355ms/step - loss: 0.2131 - acc: 0.9285 - val_loss: 0.0672 - val_acc: 0.9845\n",
      "Epoch 8/10\n",
      "132/132 [==============================] - 45s 339ms/step - loss: 0.2201 - acc: 0.9194 - val_loss: 0.0799 - val_acc: 0.9742\n",
      "Epoch 9/10\n",
      "132/132 [==============================] - 44s 333ms/step - loss: 0.2100 - acc: 0.9186 - val_loss: 0.1543 - val_acc: 0.9639\n",
      "Epoch 10/10\n",
      "132/132 [==============================] - 44s 333ms/step - loss: 0.2373 - acc: 0.9171 - val_loss: 0.0951 - val_acc: 0.9536\n"
     ]
    }
   ],
   "source": [
    "history = model.fit_generator(train_generator,\n",
    "                              epochs=10,\n",
    "                              validation_data=validation_generator,\n",
    "                              callbacks=[checkpoint])"
   ]
  },
  {
   "cell_type": "code",
   "execution_count": 18,
   "metadata": {},
   "outputs": [],
   "source": [
    "model.save(\"model-011.h5\")"
   ]
  },
  {
   "cell_type": "code",
   "execution_count": null,
   "metadata": {},
   "outputs": [],
   "source": []
  }
 ],
 "metadata": {
  "kernelspec": {
   "display_name": "Python 3",
   "language": "python",
   "name": "python3"
  },
  "language_info": {
   "codemirror_mode": {
    "name": "ipython",
    "version": 3
   },
   "file_extension": ".py",
   "mimetype": "text/x-python",
   "name": "python",
   "nbconvert_exporter": "python",
   "pygments_lexer": "ipython3",
   "version": "3.8.3"
  }
 },
 "nbformat": 4,
 "nbformat_minor": 4
}
